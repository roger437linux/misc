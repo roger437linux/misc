{
  "metadata": {
    "kernelspec": {
      "language": "python",
      "display_name": "Python 3",
      "name": "python3"
    },
    "language_info": {
      "name": "python",
      "version": "3.7.12",
      "mimetype": "text/x-python",
      "codemirror_mode": {
        "name": "ipython",
        "version": 3
      },
      "pygments_lexer": "ipython3",
      "nbconvert_exporter": "python",
      "file_extension": ".py"
    },
    "colab": {
      "name": "análise-descritiva.ipynb",
      "provenance": [],
      "include_colab_link": true
    }
  },
  "nbformat_minor": 0,
  "nbformat": 4,
  "cells": [
    {
      "cell_type": "markdown",
      "metadata": {
        "id": "view-in-github",
        "colab_type": "text"
      },
      "source": [
        "<a href=\"https://colab.research.google.com/github/roger437linux/misc/blob/main/an%C3%A1lise_descritiva.ipynb\" target=\"_parent\"><img src=\"https://colab.research.google.com/assets/colab-badge.svg\" alt=\"Open In Colab\"/></a>"
      ]
    },
    {
      "cell_type": "markdown",
      "source": [
        "![](https://i0.wp.com/www.datageeks.com.br/wp-content/uploads/2019/06/Machine-Learning-Classico.png?resize=760%2C535&ssl=1)"
      ],
      "metadata": {
        "id": "ddcx9_r__AFN"
      }
    },
    {
      "cell_type": "markdown",
      "source": [
        "![](https://miro.medium.com/max/837/1*tI-TWV--K05xbXUgA4Qm1w.png)"
      ],
      "metadata": {
        "id": "IIlgaSD3_AFT"
      }
    },
    {
      "cell_type": "markdown",
      "source": [
        "<h2><font color=\"blue\"><b>Medidas de Tendência Central: Média, Moda e Mediana em Python</b></h2>"
      ],
      "metadata": {
        "id": "FCz8BC-L_AFU"
      }
    },
    {
      "cell_type": "markdown",
      "source": [
        "### População\n",
        "Em Estatística, chamamos de **População** ao conjunto de todos os elementos que nos interessam em uma análise. Porém, é muito comum que as populações sejam conjuntos de dados muito grandes, tornado-se difícil trabalhar com a coleta e análise desses dados.\n",
        "\n",
        "Por conta disso, é muito comum trabalhar com um subconjunto representativo de uma população, que chamamos de **Amostra**, a qual preserva as características estatísticas da população de modo a poder representá-la, com uma quantidade menor de dados."
      ],
      "metadata": {
        "id": "WCaajfPA_AFV"
      }
    },
    {
      "cell_type": "code",
      "source": [
        "import pandas as pd\n",
        "import numpy as np\n",
        "import statistics as st"
      ],
      "metadata": {
        "execution": {
          "iopub.status.busy": "2022-07-31T01:40:27.859871Z",
          "iopub.execute_input": "2022-07-31T01:40:27.860810Z",
          "iopub.status.idle": "2022-07-31T01:40:27.872855Z",
          "shell.execute_reply.started": "2022-07-31T01:40:27.860700Z",
          "shell.execute_reply": "2022-07-31T01:40:27.871937Z"
        },
        "trusted": true,
        "id": "El9pHn6-_AFW"
      },
      "execution_count": 1,
      "outputs": []
    },
    {
      "cell_type": "code",
      "source": [
        "lista = [2,5,7,4,1,9,5,9,2,6,7,9,4,3,5,7]\n",
        "listaFrutas = ['banana','laranja','maçã','abacate','laranja','melão']\n",
        "listaItens = [\"SP\", \"RJ\",\"MG\",\"SP\",\"TO\",\"RS\",\"SC\",\"SP\",\"SC\"]"
      ],
      "metadata": {
        "execution": {
          "iopub.status.busy": "2022-07-31T01:40:29.293018Z",
          "iopub.execute_input": "2022-07-31T01:40:29.293441Z",
          "iopub.status.idle": "2022-07-31T01:40:29.299362Z",
          "shell.execute_reply.started": "2022-07-31T01:40:29.293406Z",
          "shell.execute_reply": "2022-07-31T01:40:29.298281Z"
        },
        "trusted": true,
        "id": "7w0hexGV_AFX"
      },
      "execution_count": 2,
      "outputs": []
    },
    {
      "cell_type": "code",
      "source": [
        "# Obtendo a média aritmética\n",
        "\n",
        "media = st.mean(lista)\n",
        "print(f\"Média aritmética: {media}\")"
      ],
      "metadata": {
        "execution": {
          "iopub.status.busy": "2022-07-31T01:40:30.459638Z",
          "iopub.execute_input": "2022-07-31T01:40:30.460603Z",
          "iopub.status.idle": "2022-07-31T01:40:30.466690Z",
          "shell.execute_reply.started": "2022-07-31T01:40:30.460543Z",
          "shell.execute_reply": "2022-07-31T01:40:30.465625Z"
        },
        "trusted": true,
        "colab": {
          "base_uri": "https://localhost:8080/"
        },
        "id": "G7PEJock_AFY",
        "outputId": "c67029ca-f62e-464e-d6b0-995e2d2d2d9f"
      },
      "execution_count": 3,
      "outputs": [
        {
          "output_type": "stream",
          "name": "stdout",
          "text": [
            "Média aritmética: 5.3125\n"
          ]
        }
      ]
    },
    {
      "cell_type": "code",
      "source": [
        "# Obtendo a mediana\n",
        "\n",
        "mediana = st.median(lista)\n",
        "print(f\"Mediana: {mediana}\")"
      ],
      "metadata": {
        "execution": {
          "iopub.status.busy": "2022-07-31T01:40:32.178622Z",
          "iopub.execute_input": "2022-07-31T01:40:32.179027Z",
          "iopub.status.idle": "2022-07-31T01:40:32.185293Z",
          "shell.execute_reply.started": "2022-07-31T01:40:32.178996Z",
          "shell.execute_reply": "2022-07-31T01:40:32.183939Z"
        },
        "trusted": true,
        "colab": {
          "base_uri": "https://localhost:8080/"
        },
        "id": "qTqwoPUa_AFZ",
        "outputId": "44246578-ea2e-4695-9723-d8699df66be8"
      },
      "execution_count": 4,
      "outputs": [
        {
          "output_type": "stream",
          "name": "stdout",
          "text": [
            "Mediana: 5.0\n"
          ]
        }
      ]
    },
    {
      "cell_type": "code",
      "source": [
        "# Obtendo a moda\n",
        "\n",
        "moda = st.mode(listaItens)\n",
        "print(f\"Moda da lista de estados: {moda}\")"
      ],
      "metadata": {
        "execution": {
          "iopub.status.busy": "2022-07-31T01:40:33.147472Z",
          "iopub.execute_input": "2022-07-31T01:40:33.148303Z",
          "iopub.status.idle": "2022-07-31T01:40:33.153497Z",
          "shell.execute_reply.started": "2022-07-31T01:40:33.148266Z",
          "shell.execute_reply": "2022-07-31T01:40:33.152598Z"
        },
        "trusted": true,
        "colab": {
          "base_uri": "https://localhost:8080/"
        },
        "id": "xWEj0yXh_AFa",
        "outputId": "c52fd601-b1cc-4916-f45c-6982c78c25d9"
      },
      "execution_count": 5,
      "outputs": [
        {
          "output_type": "stream",
          "name": "stdout",
          "text": [
            "Moda da lista de estados: SP\n"
          ]
        }
      ]
    },
    {
      "cell_type": "markdown",
      "source": [
        "![](https://programacaopratica.com.br/wp-content/uploads/2020/12/2531236_cf49_22.jpg)"
      ],
      "metadata": {
        "id": "lscbk7WK_AFb"
      }
    },
    {
      "cell_type": "code",
      "source": [
        "volei = {'nome' : ['Maria', 'Ana', 'Carla', 'Joana'],\n",
        "        'altura': [1.89, 1.85, 1.91, 1.77],\n",
        "        'pontos': [12, 5, 17, 22]}"
      ],
      "metadata": {
        "execution": {
          "iopub.status.busy": "2022-07-31T01:40:34.818917Z",
          "iopub.execute_input": "2022-07-31T01:40:34.819313Z",
          "iopub.status.idle": "2022-07-31T01:40:34.823799Z",
          "shell.execute_reply.started": "2022-07-31T01:40:34.819282Z",
          "shell.execute_reply": "2022-07-31T01:40:34.822936Z"
        },
        "trusted": true,
        "id": "0IIPsRzC_AFb"
      },
      "execution_count": 6,
      "outputs": []
    },
    {
      "cell_type": "code",
      "source": [
        "df = pd.DataFrame(volei)"
      ],
      "metadata": {
        "execution": {
          "iopub.status.busy": "2022-07-31T01:40:35.641481Z",
          "iopub.execute_input": "2022-07-31T01:40:35.642129Z",
          "iopub.status.idle": "2022-07-31T01:40:35.651219Z",
          "shell.execute_reply.started": "2022-07-31T01:40:35.642091Z",
          "shell.execute_reply": "2022-07-31T01:40:35.650392Z"
        },
        "trusted": true,
        "id": "krQNuv3B_AFc"
      },
      "execution_count": 7,
      "outputs": []
    },
    {
      "cell_type": "code",
      "source": [
        "df.head()"
      ],
      "metadata": {
        "execution": {
          "iopub.status.busy": "2022-07-31T01:40:36.471954Z",
          "iopub.execute_input": "2022-07-31T01:40:36.472622Z",
          "iopub.status.idle": "2022-07-31T01:40:36.495245Z",
          "shell.execute_reply.started": "2022-07-31T01:40:36.472558Z",
          "shell.execute_reply": "2022-07-31T01:40:36.494268Z"
        },
        "trusted": true,
        "colab": {
          "base_uri": "https://localhost:8080/",
          "height": 175
        },
        "id": "Wv2XoDT3_AFc",
        "outputId": "64959e0a-7edd-4fd5-a2a2-2ab27a754542"
      },
      "execution_count": 8,
      "outputs": [
        {
          "output_type": "execute_result",
          "data": {
            "text/plain": [
              "    nome  altura  pontos\n",
              "0  Maria    1.89      12\n",
              "1    Ana    1.85       5\n",
              "2  Carla    1.91      17\n",
              "3  Joana    1.77      22"
            ],
            "text/html": [
              "\n",
              "  <div id=\"df-a7b7ec48-27c6-4b16-92ca-3d10c0a9f023\">\n",
              "    <div class=\"colab-df-container\">\n",
              "      <div>\n",
              "<style scoped>\n",
              "    .dataframe tbody tr th:only-of-type {\n",
              "        vertical-align: middle;\n",
              "    }\n",
              "\n",
              "    .dataframe tbody tr th {\n",
              "        vertical-align: top;\n",
              "    }\n",
              "\n",
              "    .dataframe thead th {\n",
              "        text-align: right;\n",
              "    }\n",
              "</style>\n",
              "<table border=\"1\" class=\"dataframe\">\n",
              "  <thead>\n",
              "    <tr style=\"text-align: right;\">\n",
              "      <th></th>\n",
              "      <th>nome</th>\n",
              "      <th>altura</th>\n",
              "      <th>pontos</th>\n",
              "    </tr>\n",
              "  </thead>\n",
              "  <tbody>\n",
              "    <tr>\n",
              "      <th>0</th>\n",
              "      <td>Maria</td>\n",
              "      <td>1.89</td>\n",
              "      <td>12</td>\n",
              "    </tr>\n",
              "    <tr>\n",
              "      <th>1</th>\n",
              "      <td>Ana</td>\n",
              "      <td>1.85</td>\n",
              "      <td>5</td>\n",
              "    </tr>\n",
              "    <tr>\n",
              "      <th>2</th>\n",
              "      <td>Carla</td>\n",
              "      <td>1.91</td>\n",
              "      <td>17</td>\n",
              "    </tr>\n",
              "    <tr>\n",
              "      <th>3</th>\n",
              "      <td>Joana</td>\n",
              "      <td>1.77</td>\n",
              "      <td>22</td>\n",
              "    </tr>\n",
              "  </tbody>\n",
              "</table>\n",
              "</div>\n",
              "      <button class=\"colab-df-convert\" onclick=\"convertToInteractive('df-a7b7ec48-27c6-4b16-92ca-3d10c0a9f023')\"\n",
              "              title=\"Convert this dataframe to an interactive table.\"\n",
              "              style=\"display:none;\">\n",
              "        \n",
              "  <svg xmlns=\"http://www.w3.org/2000/svg\" height=\"24px\"viewBox=\"0 0 24 24\"\n",
              "       width=\"24px\">\n",
              "    <path d=\"M0 0h24v24H0V0z\" fill=\"none\"/>\n",
              "    <path d=\"M18.56 5.44l.94 2.06.94-2.06 2.06-.94-2.06-.94-.94-2.06-.94 2.06-2.06.94zm-11 1L8.5 8.5l.94-2.06 2.06-.94-2.06-.94L8.5 2.5l-.94 2.06-2.06.94zm10 10l.94 2.06.94-2.06 2.06-.94-2.06-.94-.94-2.06-.94 2.06-2.06.94z\"/><path d=\"M17.41 7.96l-1.37-1.37c-.4-.4-.92-.59-1.43-.59-.52 0-1.04.2-1.43.59L10.3 9.45l-7.72 7.72c-.78.78-.78 2.05 0 2.83L4 21.41c.39.39.9.59 1.41.59.51 0 1.02-.2 1.41-.59l7.78-7.78 2.81-2.81c.8-.78.8-2.07 0-2.86zM5.41 20L4 18.59l7.72-7.72 1.47 1.35L5.41 20z\"/>\n",
              "  </svg>\n",
              "      </button>\n",
              "      \n",
              "  <style>\n",
              "    .colab-df-container {\n",
              "      display:flex;\n",
              "      flex-wrap:wrap;\n",
              "      gap: 12px;\n",
              "    }\n",
              "\n",
              "    .colab-df-convert {\n",
              "      background-color: #E8F0FE;\n",
              "      border: none;\n",
              "      border-radius: 50%;\n",
              "      cursor: pointer;\n",
              "      display: none;\n",
              "      fill: #1967D2;\n",
              "      height: 32px;\n",
              "      padding: 0 0 0 0;\n",
              "      width: 32px;\n",
              "    }\n",
              "\n",
              "    .colab-df-convert:hover {\n",
              "      background-color: #E2EBFA;\n",
              "      box-shadow: 0px 1px 2px rgba(60, 64, 67, 0.3), 0px 1px 3px 1px rgba(60, 64, 67, 0.15);\n",
              "      fill: #174EA6;\n",
              "    }\n",
              "\n",
              "    [theme=dark] .colab-df-convert {\n",
              "      background-color: #3B4455;\n",
              "      fill: #D2E3FC;\n",
              "    }\n",
              "\n",
              "    [theme=dark] .colab-df-convert:hover {\n",
              "      background-color: #434B5C;\n",
              "      box-shadow: 0px 1px 3px 1px rgba(0, 0, 0, 0.15);\n",
              "      filter: drop-shadow(0px 1px 2px rgba(0, 0, 0, 0.3));\n",
              "      fill: #FFFFFF;\n",
              "    }\n",
              "  </style>\n",
              "\n",
              "      <script>\n",
              "        const buttonEl =\n",
              "          document.querySelector('#df-a7b7ec48-27c6-4b16-92ca-3d10c0a9f023 button.colab-df-convert');\n",
              "        buttonEl.style.display =\n",
              "          google.colab.kernel.accessAllowed ? 'block' : 'none';\n",
              "\n",
              "        async function convertToInteractive(key) {\n",
              "          const element = document.querySelector('#df-a7b7ec48-27c6-4b16-92ca-3d10c0a9f023');\n",
              "          const dataTable =\n",
              "            await google.colab.kernel.invokeFunction('convertToInteractive',\n",
              "                                                     [key], {});\n",
              "          if (!dataTable) return;\n",
              "\n",
              "          const docLinkHtml = 'Like what you see? Visit the ' +\n",
              "            '<a target=\"_blank\" href=https://colab.research.google.com/notebooks/data_table.ipynb>data table notebook</a>'\n",
              "            + ' to learn more about interactive tables.';\n",
              "          element.innerHTML = '';\n",
              "          dataTable['output_type'] = 'display_data';\n",
              "          await google.colab.output.renderOutput(dataTable, element);\n",
              "          const docLink = document.createElement('div');\n",
              "          docLink.innerHTML = docLinkHtml;\n",
              "          element.appendChild(docLink);\n",
              "        }\n",
              "      </script>\n",
              "    </div>\n",
              "  </div>\n",
              "  "
            ]
          },
          "metadata": {},
          "execution_count": 8
        }
      ]
    },
    {
      "cell_type": "code",
      "source": [
        "# Sumarização\n",
        "\n",
        "round(df.describe(), 2)"
      ],
      "metadata": {
        "execution": {
          "iopub.status.busy": "2022-07-31T01:40:37.548083Z",
          "iopub.execute_input": "2022-07-31T01:40:37.548820Z",
          "iopub.status.idle": "2022-07-31T01:40:37.579776Z",
          "shell.execute_reply.started": "2022-07-31T01:40:37.548784Z",
          "shell.execute_reply": "2022-07-31T01:40:37.579062Z"
        },
        "trusted": true,
        "colab": {
          "base_uri": "https://localhost:8080/",
          "height": 300
        },
        "id": "oc3HKRly_AFd",
        "outputId": "e8d8751a-61be-4b5a-ff6e-9b4ee01f6b63"
      },
      "execution_count": 9,
      "outputs": [
        {
          "output_type": "execute_result",
          "data": {
            "text/plain": [
              "       altura  pontos\n",
              "count    4.00    4.00\n",
              "mean     1.86   14.00\n",
              "std      0.06    7.26\n",
              "min      1.77    5.00\n",
              "25%      1.83   10.25\n",
              "50%      1.87   14.50\n",
              "75%      1.90   18.25\n",
              "max      1.91   22.00"
            ],
            "text/html": [
              "\n",
              "  <div id=\"df-0c815459-93b1-4112-ab50-60eb01b8a607\">\n",
              "    <div class=\"colab-df-container\">\n",
              "      <div>\n",
              "<style scoped>\n",
              "    .dataframe tbody tr th:only-of-type {\n",
              "        vertical-align: middle;\n",
              "    }\n",
              "\n",
              "    .dataframe tbody tr th {\n",
              "        vertical-align: top;\n",
              "    }\n",
              "\n",
              "    .dataframe thead th {\n",
              "        text-align: right;\n",
              "    }\n",
              "</style>\n",
              "<table border=\"1\" class=\"dataframe\">\n",
              "  <thead>\n",
              "    <tr style=\"text-align: right;\">\n",
              "      <th></th>\n",
              "      <th>altura</th>\n",
              "      <th>pontos</th>\n",
              "    </tr>\n",
              "  </thead>\n",
              "  <tbody>\n",
              "    <tr>\n",
              "      <th>count</th>\n",
              "      <td>4.00</td>\n",
              "      <td>4.00</td>\n",
              "    </tr>\n",
              "    <tr>\n",
              "      <th>mean</th>\n",
              "      <td>1.86</td>\n",
              "      <td>14.00</td>\n",
              "    </tr>\n",
              "    <tr>\n",
              "      <th>std</th>\n",
              "      <td>0.06</td>\n",
              "      <td>7.26</td>\n",
              "    </tr>\n",
              "    <tr>\n",
              "      <th>min</th>\n",
              "      <td>1.77</td>\n",
              "      <td>5.00</td>\n",
              "    </tr>\n",
              "    <tr>\n",
              "      <th>25%</th>\n",
              "      <td>1.83</td>\n",
              "      <td>10.25</td>\n",
              "    </tr>\n",
              "    <tr>\n",
              "      <th>50%</th>\n",
              "      <td>1.87</td>\n",
              "      <td>14.50</td>\n",
              "    </tr>\n",
              "    <tr>\n",
              "      <th>75%</th>\n",
              "      <td>1.90</td>\n",
              "      <td>18.25</td>\n",
              "    </tr>\n",
              "    <tr>\n",
              "      <th>max</th>\n",
              "      <td>1.91</td>\n",
              "      <td>22.00</td>\n",
              "    </tr>\n",
              "  </tbody>\n",
              "</table>\n",
              "</div>\n",
              "      <button class=\"colab-df-convert\" onclick=\"convertToInteractive('df-0c815459-93b1-4112-ab50-60eb01b8a607')\"\n",
              "              title=\"Convert this dataframe to an interactive table.\"\n",
              "              style=\"display:none;\">\n",
              "        \n",
              "  <svg xmlns=\"http://www.w3.org/2000/svg\" height=\"24px\"viewBox=\"0 0 24 24\"\n",
              "       width=\"24px\">\n",
              "    <path d=\"M0 0h24v24H0V0z\" fill=\"none\"/>\n",
              "    <path d=\"M18.56 5.44l.94 2.06.94-2.06 2.06-.94-2.06-.94-.94-2.06-.94 2.06-2.06.94zm-11 1L8.5 8.5l.94-2.06 2.06-.94-2.06-.94L8.5 2.5l-.94 2.06-2.06.94zm10 10l.94 2.06.94-2.06 2.06-.94-2.06-.94-.94-2.06-.94 2.06-2.06.94z\"/><path d=\"M17.41 7.96l-1.37-1.37c-.4-.4-.92-.59-1.43-.59-.52 0-1.04.2-1.43.59L10.3 9.45l-7.72 7.72c-.78.78-.78 2.05 0 2.83L4 21.41c.39.39.9.59 1.41.59.51 0 1.02-.2 1.41-.59l7.78-7.78 2.81-2.81c.8-.78.8-2.07 0-2.86zM5.41 20L4 18.59l7.72-7.72 1.47 1.35L5.41 20z\"/>\n",
              "  </svg>\n",
              "      </button>\n",
              "      \n",
              "  <style>\n",
              "    .colab-df-container {\n",
              "      display:flex;\n",
              "      flex-wrap:wrap;\n",
              "      gap: 12px;\n",
              "    }\n",
              "\n",
              "    .colab-df-convert {\n",
              "      background-color: #E8F0FE;\n",
              "      border: none;\n",
              "      border-radius: 50%;\n",
              "      cursor: pointer;\n",
              "      display: none;\n",
              "      fill: #1967D2;\n",
              "      height: 32px;\n",
              "      padding: 0 0 0 0;\n",
              "      width: 32px;\n",
              "    }\n",
              "\n",
              "    .colab-df-convert:hover {\n",
              "      background-color: #E2EBFA;\n",
              "      box-shadow: 0px 1px 2px rgba(60, 64, 67, 0.3), 0px 1px 3px 1px rgba(60, 64, 67, 0.15);\n",
              "      fill: #174EA6;\n",
              "    }\n",
              "\n",
              "    [theme=dark] .colab-df-convert {\n",
              "      background-color: #3B4455;\n",
              "      fill: #D2E3FC;\n",
              "    }\n",
              "\n",
              "    [theme=dark] .colab-df-convert:hover {\n",
              "      background-color: #434B5C;\n",
              "      box-shadow: 0px 1px 3px 1px rgba(0, 0, 0, 0.15);\n",
              "      filter: drop-shadow(0px 1px 2px rgba(0, 0, 0, 0.3));\n",
              "      fill: #FFFFFF;\n",
              "    }\n",
              "  </style>\n",
              "\n",
              "      <script>\n",
              "        const buttonEl =\n",
              "          document.querySelector('#df-0c815459-93b1-4112-ab50-60eb01b8a607 button.colab-df-convert');\n",
              "        buttonEl.style.display =\n",
              "          google.colab.kernel.accessAllowed ? 'block' : 'none';\n",
              "\n",
              "        async function convertToInteractive(key) {\n",
              "          const element = document.querySelector('#df-0c815459-93b1-4112-ab50-60eb01b8a607');\n",
              "          const dataTable =\n",
              "            await google.colab.kernel.invokeFunction('convertToInteractive',\n",
              "                                                     [key], {});\n",
              "          if (!dataTable) return;\n",
              "\n",
              "          const docLinkHtml = 'Like what you see? Visit the ' +\n",
              "            '<a target=\"_blank\" href=https://colab.research.google.com/notebooks/data_table.ipynb>data table notebook</a>'\n",
              "            + ' to learn more about interactive tables.';\n",
              "          element.innerHTML = '';\n",
              "          dataTable['output_type'] = 'display_data';\n",
              "          await google.colab.output.renderOutput(dataTable, element);\n",
              "          const docLink = document.createElement('div');\n",
              "          docLink.innerHTML = docLinkHtml;\n",
              "          element.appendChild(docLink);\n",
              "        }\n",
              "      </script>\n",
              "    </div>\n",
              "  </div>\n",
              "  "
            ]
          },
          "metadata": {},
          "execution_count": 9
        }
      ]
    },
    {
      "cell_type": "code",
      "source": [
        "# Médias\n",
        "\n",
        "print(f\"Média da altura: {df['altura'].mean()}\")\n",
        "print(f\"Média dos pontos: {df['pontos'].mean()}\")"
      ],
      "metadata": {
        "execution": {
          "iopub.status.busy": "2022-07-31T01:40:38.324385Z",
          "iopub.execute_input": "2022-07-31T01:40:38.325158Z",
          "iopub.status.idle": "2022-07-31T01:40:38.332873Z",
          "shell.execute_reply.started": "2022-07-31T01:40:38.325108Z",
          "shell.execute_reply": "2022-07-31T01:40:38.331625Z"
        },
        "trusted": true,
        "colab": {
          "base_uri": "https://localhost:8080/"
        },
        "id": "kchR29u-_AFd",
        "outputId": "04f78271-076e-42d6-8119-2b6acfe85aa9"
      },
      "execution_count": 10,
      "outputs": [
        {
          "output_type": "stream",
          "name": "stdout",
          "text": [
            "Média da altura: 1.855\n",
            "Média dos pontos: 14.0\n"
          ]
        }
      ]
    },
    {
      "cell_type": "code",
      "source": [
        "df['altura'].sum() / df['altura'].count()"
      ],
      "metadata": {
        "execution": {
          "iopub.status.busy": "2022-07-31T01:40:39.113423Z",
          "iopub.execute_input": "2022-07-31T01:40:39.114385Z",
          "iopub.status.idle": "2022-07-31T01:40:39.121357Z",
          "shell.execute_reply.started": "2022-07-31T01:40:39.114344Z",
          "shell.execute_reply": "2022-07-31T01:40:39.120334Z"
        },
        "trusted": true,
        "colab": {
          "base_uri": "https://localhost:8080/"
        },
        "id": "iWaBx1Qb_AFe",
        "outputId": "49491d85-8f58-4b7e-b6e1-55c9d6ba5eb8"
      },
      "execution_count": 11,
      "outputs": [
        {
          "output_type": "execute_result",
          "data": {
            "text/plain": [
              "1.855"
            ]
          },
          "metadata": {},
          "execution_count": 11
        }
      ]
    },
    {
      "cell_type": "code",
      "source": [
        "# Medianas\n",
        "\n",
        "print(f\"Mediana da altura: {df['altura'].median()}\")\n",
        "print(f\"Mediana dos pontos: {df['pontos'].median()}\")"
      ],
      "metadata": {
        "execution": {
          "iopub.status.busy": "2022-07-31T01:40:40.121859Z",
          "iopub.execute_input": "2022-07-31T01:40:40.122279Z",
          "iopub.status.idle": "2022-07-31T01:40:40.128463Z",
          "shell.execute_reply.started": "2022-07-31T01:40:40.122244Z",
          "shell.execute_reply": "2022-07-31T01:40:40.127795Z"
        },
        "trusted": true,
        "colab": {
          "base_uri": "https://localhost:8080/"
        },
        "id": "wCd0sq4n_AFe",
        "outputId": "f183d9c3-a199-452a-ed82-b58d0837df31"
      },
      "execution_count": 12,
      "outputs": [
        {
          "output_type": "stream",
          "name": "stdout",
          "text": [
            "Mediana da altura: 1.87\n",
            "Mediana dos pontos: 14.5\n"
          ]
        }
      ]
    },
    {
      "cell_type": "code",
      "source": [
        "# Moda da altura\n",
        "\n",
        "df['altura'].mode()"
      ],
      "metadata": {
        "execution": {
          "iopub.status.busy": "2022-07-31T01:40:41.173522Z",
          "iopub.execute_input": "2022-07-31T01:40:41.174231Z",
          "iopub.status.idle": "2022-07-31T01:40:41.185150Z",
          "shell.execute_reply.started": "2022-07-31T01:40:41.174190Z",
          "shell.execute_reply": "2022-07-31T01:40:41.184019Z"
        },
        "trusted": true,
        "colab": {
          "base_uri": "https://localhost:8080/"
        },
        "id": "9nbo8XBG_AFe",
        "outputId": "5937447f-41ff-4943-b0fe-a89fd64955e3"
      },
      "execution_count": 13,
      "outputs": [
        {
          "output_type": "execute_result",
          "data": {
            "text/plain": [
              "0    1.77\n",
              "1    1.85\n",
              "2    1.89\n",
              "3    1.91\n",
              "dtype: float64"
            ]
          },
          "metadata": {},
          "execution_count": 13
        }
      ]
    },
    {
      "cell_type": "code",
      "source": [
        "# Moda dos pontos\n",
        "df['pontos'].mode()"
      ],
      "metadata": {
        "execution": {
          "iopub.status.busy": "2022-07-31T01:40:42.297296Z",
          "iopub.execute_input": "2022-07-31T01:40:42.298518Z",
          "iopub.status.idle": "2022-07-31T01:40:42.306207Z",
          "shell.execute_reply.started": "2022-07-31T01:40:42.298469Z",
          "shell.execute_reply": "2022-07-31T01:40:42.305094Z"
        },
        "trusted": true,
        "colab": {
          "base_uri": "https://localhost:8080/"
        },
        "id": "pF9AYJ2L_AFf",
        "outputId": "d64b9e31-22dd-46e7-fbb6-d5a8442a0192"
      },
      "execution_count": 14,
      "outputs": [
        {
          "output_type": "execute_result",
          "data": {
            "text/plain": [
              "0     5\n",
              "1    12\n",
              "2    17\n",
              "3    22\n",
              "dtype: int64"
            ]
          },
          "metadata": {},
          "execution_count": 14
        }
      ]
    },
    {
      "cell_type": "code",
      "source": [
        "# Soma das alturas\n",
        "\n",
        "df['altura'].sum()"
      ],
      "metadata": {
        "execution": {
          "iopub.status.busy": "2022-07-31T01:40:43.416043Z",
          "iopub.execute_input": "2022-07-31T01:40:43.416465Z",
          "iopub.status.idle": "2022-07-31T01:40:43.423131Z",
          "shell.execute_reply.started": "2022-07-31T01:40:43.416429Z",
          "shell.execute_reply": "2022-07-31T01:40:43.422241Z"
        },
        "trusted": true,
        "colab": {
          "base_uri": "https://localhost:8080/"
        },
        "id": "VvaXb2QI_AFf",
        "outputId": "38500405-01b9-4455-ad08-12a85c0af4a4"
      },
      "execution_count": 15,
      "outputs": [
        {
          "output_type": "execute_result",
          "data": {
            "text/plain": [
              "7.42"
            ]
          },
          "metadata": {},
          "execution_count": 15
        }
      ]
    },
    {
      "cell_type": "code",
      "source": [
        "# Soma dos pontos\n",
        "\n",
        "df['pontos'].sum()"
      ],
      "metadata": {
        "execution": {
          "iopub.status.busy": "2022-07-31T01:40:44.399839Z",
          "iopub.execute_input": "2022-07-31T01:40:44.400275Z",
          "iopub.status.idle": "2022-07-31T01:40:44.406825Z",
          "shell.execute_reply.started": "2022-07-31T01:40:44.400230Z",
          "shell.execute_reply": "2022-07-31T01:40:44.405885Z"
        },
        "trusted": true,
        "colab": {
          "base_uri": "https://localhost:8080/"
        },
        "id": "V9OAXWkW_AFf",
        "outputId": "77c7e6f6-1df4-4e72-f02e-cb9a28e93974"
      },
      "execution_count": 16,
      "outputs": [
        {
          "output_type": "execute_result",
          "data": {
            "text/plain": [
              "56"
            ]
          },
          "metadata": {},
          "execution_count": 16
        }
      ]
    },
    {
      "cell_type": "markdown",
      "source": [
        "![](https://s1.static.brasilescola.uol.com.br/be/conteudo/images/5244cd19c3e41e1dd49b08eb29cf8080.jpg)"
      ],
      "metadata": {
        "id": "McZtwcA8_AFg"
      }
    },
    {
      "cell_type": "markdown",
      "source": [
        "<h2><font color=\"red\"><b>Medidas de Dispersão: Variância e Desvio padrão em Python</b></h2>"
      ],
      "metadata": {
        "id": "Y7Hg-yzJ_AFg"
      }
    },
    {
      "cell_type": "code",
      "source": [
        "# Sumarização\n",
        "\n",
        "df.describe()"
      ],
      "metadata": {
        "execution": {
          "iopub.status.busy": "2022-07-31T01:40:47.354089Z",
          "iopub.execute_input": "2022-07-31T01:40:47.354741Z",
          "iopub.status.idle": "2022-07-31T01:40:47.372006Z",
          "shell.execute_reply.started": "2022-07-31T01:40:47.354690Z",
          "shell.execute_reply": "2022-07-31T01:40:47.371239Z"
        },
        "trusted": true,
        "colab": {
          "base_uri": "https://localhost:8080/",
          "height": 300
        },
        "id": "-LBYvL06_AFg",
        "outputId": "ef02141d-49c7-4b1c-d77a-4ad2af00412d"
      },
      "execution_count": 17,
      "outputs": [
        {
          "output_type": "execute_result",
          "data": {
            "text/plain": [
              "         altura    pontos\n",
              "count  4.000000   4.00000\n",
              "mean   1.855000  14.00000\n",
              "std    0.061914   7.25718\n",
              "min    1.770000   5.00000\n",
              "25%    1.830000  10.25000\n",
              "50%    1.870000  14.50000\n",
              "75%    1.895000  18.25000\n",
              "max    1.910000  22.00000"
            ],
            "text/html": [
              "\n",
              "  <div id=\"df-39a2e71c-2bed-47a6-8e50-2fa951253f5b\">\n",
              "    <div class=\"colab-df-container\">\n",
              "      <div>\n",
              "<style scoped>\n",
              "    .dataframe tbody tr th:only-of-type {\n",
              "        vertical-align: middle;\n",
              "    }\n",
              "\n",
              "    .dataframe tbody tr th {\n",
              "        vertical-align: top;\n",
              "    }\n",
              "\n",
              "    .dataframe thead th {\n",
              "        text-align: right;\n",
              "    }\n",
              "</style>\n",
              "<table border=\"1\" class=\"dataframe\">\n",
              "  <thead>\n",
              "    <tr style=\"text-align: right;\">\n",
              "      <th></th>\n",
              "      <th>altura</th>\n",
              "      <th>pontos</th>\n",
              "    </tr>\n",
              "  </thead>\n",
              "  <tbody>\n",
              "    <tr>\n",
              "      <th>count</th>\n",
              "      <td>4.000000</td>\n",
              "      <td>4.00000</td>\n",
              "    </tr>\n",
              "    <tr>\n",
              "      <th>mean</th>\n",
              "      <td>1.855000</td>\n",
              "      <td>14.00000</td>\n",
              "    </tr>\n",
              "    <tr>\n",
              "      <th>std</th>\n",
              "      <td>0.061914</td>\n",
              "      <td>7.25718</td>\n",
              "    </tr>\n",
              "    <tr>\n",
              "      <th>min</th>\n",
              "      <td>1.770000</td>\n",
              "      <td>5.00000</td>\n",
              "    </tr>\n",
              "    <tr>\n",
              "      <th>25%</th>\n",
              "      <td>1.830000</td>\n",
              "      <td>10.25000</td>\n",
              "    </tr>\n",
              "    <tr>\n",
              "      <th>50%</th>\n",
              "      <td>1.870000</td>\n",
              "      <td>14.50000</td>\n",
              "    </tr>\n",
              "    <tr>\n",
              "      <th>75%</th>\n",
              "      <td>1.895000</td>\n",
              "      <td>18.25000</td>\n",
              "    </tr>\n",
              "    <tr>\n",
              "      <th>max</th>\n",
              "      <td>1.910000</td>\n",
              "      <td>22.00000</td>\n",
              "    </tr>\n",
              "  </tbody>\n",
              "</table>\n",
              "</div>\n",
              "      <button class=\"colab-df-convert\" onclick=\"convertToInteractive('df-39a2e71c-2bed-47a6-8e50-2fa951253f5b')\"\n",
              "              title=\"Convert this dataframe to an interactive table.\"\n",
              "              style=\"display:none;\">\n",
              "        \n",
              "  <svg xmlns=\"http://www.w3.org/2000/svg\" height=\"24px\"viewBox=\"0 0 24 24\"\n",
              "       width=\"24px\">\n",
              "    <path d=\"M0 0h24v24H0V0z\" fill=\"none\"/>\n",
              "    <path d=\"M18.56 5.44l.94 2.06.94-2.06 2.06-.94-2.06-.94-.94-2.06-.94 2.06-2.06.94zm-11 1L8.5 8.5l.94-2.06 2.06-.94-2.06-.94L8.5 2.5l-.94 2.06-2.06.94zm10 10l.94 2.06.94-2.06 2.06-.94-2.06-.94-.94-2.06-.94 2.06-2.06.94z\"/><path d=\"M17.41 7.96l-1.37-1.37c-.4-.4-.92-.59-1.43-.59-.52 0-1.04.2-1.43.59L10.3 9.45l-7.72 7.72c-.78.78-.78 2.05 0 2.83L4 21.41c.39.39.9.59 1.41.59.51 0 1.02-.2 1.41-.59l7.78-7.78 2.81-2.81c.8-.78.8-2.07 0-2.86zM5.41 20L4 18.59l7.72-7.72 1.47 1.35L5.41 20z\"/>\n",
              "  </svg>\n",
              "      </button>\n",
              "      \n",
              "  <style>\n",
              "    .colab-df-container {\n",
              "      display:flex;\n",
              "      flex-wrap:wrap;\n",
              "      gap: 12px;\n",
              "    }\n",
              "\n",
              "    .colab-df-convert {\n",
              "      background-color: #E8F0FE;\n",
              "      border: none;\n",
              "      border-radius: 50%;\n",
              "      cursor: pointer;\n",
              "      display: none;\n",
              "      fill: #1967D2;\n",
              "      height: 32px;\n",
              "      padding: 0 0 0 0;\n",
              "      width: 32px;\n",
              "    }\n",
              "\n",
              "    .colab-df-convert:hover {\n",
              "      background-color: #E2EBFA;\n",
              "      box-shadow: 0px 1px 2px rgba(60, 64, 67, 0.3), 0px 1px 3px 1px rgba(60, 64, 67, 0.15);\n",
              "      fill: #174EA6;\n",
              "    }\n",
              "\n",
              "    [theme=dark] .colab-df-convert {\n",
              "      background-color: #3B4455;\n",
              "      fill: #D2E3FC;\n",
              "    }\n",
              "\n",
              "    [theme=dark] .colab-df-convert:hover {\n",
              "      background-color: #434B5C;\n",
              "      box-shadow: 0px 1px 3px 1px rgba(0, 0, 0, 0.15);\n",
              "      filter: drop-shadow(0px 1px 2px rgba(0, 0, 0, 0.3));\n",
              "      fill: #FFFFFF;\n",
              "    }\n",
              "  </style>\n",
              "\n",
              "      <script>\n",
              "        const buttonEl =\n",
              "          document.querySelector('#df-39a2e71c-2bed-47a6-8e50-2fa951253f5b button.colab-df-convert');\n",
              "        buttonEl.style.display =\n",
              "          google.colab.kernel.accessAllowed ? 'block' : 'none';\n",
              "\n",
              "        async function convertToInteractive(key) {\n",
              "          const element = document.querySelector('#df-39a2e71c-2bed-47a6-8e50-2fa951253f5b');\n",
              "          const dataTable =\n",
              "            await google.colab.kernel.invokeFunction('convertToInteractive',\n",
              "                                                     [key], {});\n",
              "          if (!dataTable) return;\n",
              "\n",
              "          const docLinkHtml = 'Like what you see? Visit the ' +\n",
              "            '<a target=\"_blank\" href=https://colab.research.google.com/notebooks/data_table.ipynb>data table notebook</a>'\n",
              "            + ' to learn more about interactive tables.';\n",
              "          element.innerHTML = '';\n",
              "          dataTable['output_type'] = 'display_data';\n",
              "          await google.colab.output.renderOutput(dataTable, element);\n",
              "          const docLink = document.createElement('div');\n",
              "          docLink.innerHTML = docLinkHtml;\n",
              "          element.appendChild(docLink);\n",
              "        }\n",
              "      </script>\n",
              "    </div>\n",
              "  </div>\n",
              "  "
            ]
          },
          "metadata": {},
          "execution_count": 17
        }
      ]
    },
    {
      "cell_type": "code",
      "source": [
        "# Variância\n",
        "\n",
        "print(f\"Varância da altura: {df['altura'].var()}\")\n",
        "print(f\"Variância dos pontos: {df['pontos'].var()}\")"
      ],
      "metadata": {
        "execution": {
          "iopub.status.busy": "2022-07-31T01:40:48.565486Z",
          "iopub.execute_input": "2022-07-31T01:40:48.566105Z",
          "iopub.status.idle": "2022-07-31T01:40:48.572025Z",
          "shell.execute_reply.started": "2022-07-31T01:40:48.566056Z",
          "shell.execute_reply": "2022-07-31T01:40:48.571305Z"
        },
        "trusted": true,
        "colab": {
          "base_uri": "https://localhost:8080/"
        },
        "id": "0MmJrUf7_AFg",
        "outputId": "075734d8-fac1-487d-d379-7c7d3fee4e04"
      },
      "execution_count": 18,
      "outputs": [
        {
          "output_type": "stream",
          "name": "stdout",
          "text": [
            "Varância da altura: 0.003833333333333326\n",
            "Variância dos pontos: 52.666666666666664\n"
          ]
        }
      ]
    },
    {
      "cell_type": "code",
      "source": [
        "# Desvio padrão\n",
        "\n",
        "print(f\"Desvio padrão da altura: {df['altura'].std()}\")\n",
        "print(f\"Desvio padrão dos pontos: {df['pontos'].std()}\")"
      ],
      "metadata": {
        "execution": {
          "iopub.status.busy": "2022-07-31T01:40:49.300505Z",
          "iopub.execute_input": "2022-07-31T01:40:49.300958Z",
          "iopub.status.idle": "2022-07-31T01:40:49.306468Z",
          "shell.execute_reply.started": "2022-07-31T01:40:49.300921Z",
          "shell.execute_reply": "2022-07-31T01:40:49.305571Z"
        },
        "trusted": true,
        "colab": {
          "base_uri": "https://localhost:8080/"
        },
        "id": "Oi1l_eD7_AFh",
        "outputId": "ff1e1186-5743-4c30-c68e-d2ed287f7197"
      },
      "execution_count": 19,
      "outputs": [
        {
          "output_type": "stream",
          "name": "stdout",
          "text": [
            "Desvio padrão da altura: 0.06191391873668897\n",
            "Desvio padrão dos pontos: 7.2571803523590805\n"
          ]
        }
      ]
    },
    {
      "cell_type": "code",
      "source": [
        "# Tornando mais poderosa a sumarização\n",
        "\n",
        "!pip install skimpy"
      ],
      "metadata": {
        "execution": {
          "iopub.status.busy": "2022-07-31T01:40:50.165708Z",
          "iopub.execute_input": "2022-07-31T01:40:50.166164Z",
          "iopub.status.idle": "2022-07-31T01:41:00.427692Z",
          "shell.execute_reply.started": "2022-07-31T01:40:50.166126Z",
          "shell.execute_reply": "2022-07-31T01:41:00.426466Z"
        },
        "trusted": true,
        "colab": {
          "base_uri": "https://localhost:8080/",
          "height": 712
        },
        "id": "qSzVOR9x_AFh",
        "outputId": "1349f269-76ce-45f9-8a80-2ec3bc3c4b08"
      },
      "execution_count": 20,
      "outputs": [
        {
          "output_type": "stream",
          "name": "stdout",
          "text": [
            "Looking in indexes: https://pypi.org/simple, https://us-python.pkg.dev/colab-wheels/public/simple/\n",
            "Collecting skimpy\n",
            "  Downloading skimpy-0.0.5-py3-none-any.whl (15 kB)\n",
            "Requirement already satisfied: pandas<2.0.0,>=1.3.2 in /usr/local/lib/python3.7/dist-packages (from skimpy) (1.3.5)\n",
            "Requirement already satisfied: click==7.1.2 in /usr/local/lib/python3.7/dist-packages (from skimpy) (7.1.2)\n",
            "Collecting rich<11.0.0,>=10.9.0\n",
            "  Downloading rich-10.16.2-py3-none-any.whl (214 kB)\n",
            "\u001b[K     |████████████████████████████████| 214 kB 10.2 MB/s \n",
            "\u001b[?25hCollecting typeguard<3.0.0,>=2.12.1\n",
            "  Downloading typeguard-2.13.3-py3-none-any.whl (17 kB)\n",
            "Collecting Pygments<3.0.0,>=2.10.0\n",
            "  Downloading Pygments-2.12.0-py3-none-any.whl (1.1 MB)\n",
            "\u001b[K     |████████████████████████████████| 1.1 MB 53.6 MB/s \n",
            "\u001b[?25hRequirement already satisfied: pytz>=2017.3 in /usr/local/lib/python3.7/dist-packages (from pandas<2.0.0,>=1.3.2->skimpy) (2022.1)\n",
            "Requirement already satisfied: python-dateutil>=2.7.3 in /usr/local/lib/python3.7/dist-packages (from pandas<2.0.0,>=1.3.2->skimpy) (2.8.2)\n",
            "Requirement already satisfied: numpy>=1.17.3 in /usr/local/lib/python3.7/dist-packages (from pandas<2.0.0,>=1.3.2->skimpy) (1.21.6)\n",
            "Requirement already satisfied: six>=1.5 in /usr/local/lib/python3.7/dist-packages (from python-dateutil>=2.7.3->pandas<2.0.0,>=1.3.2->skimpy) (1.15.0)\n",
            "Collecting colorama<0.5.0,>=0.4.0\n",
            "  Downloading colorama-0.4.5-py2.py3-none-any.whl (16 kB)\n",
            "Requirement already satisfied: typing-extensions<5.0,>=3.7.4 in /usr/local/lib/python3.7/dist-packages (from rich<11.0.0,>=10.9.0->skimpy) (4.1.1)\n",
            "Collecting commonmark<0.10.0,>=0.9.0\n",
            "  Downloading commonmark-0.9.1-py2.py3-none-any.whl (51 kB)\n",
            "\u001b[K     |████████████████████████████████| 51 kB 7.2 MB/s \n",
            "\u001b[?25hInstalling collected packages: Pygments, commonmark, colorama, typeguard, rich, skimpy\n",
            "  Attempting uninstall: Pygments\n",
            "    Found existing installation: Pygments 2.6.1\n",
            "    Uninstalling Pygments-2.6.1:\n",
            "      Successfully uninstalled Pygments-2.6.1\n",
            "  Attempting uninstall: typeguard\n",
            "    Found existing installation: typeguard 2.7.1\n",
            "    Uninstalling typeguard-2.7.1:\n",
            "      Successfully uninstalled typeguard-2.7.1\n",
            "\u001b[31mERROR: pip's dependency resolver does not currently take into account all the packages that are installed. This behaviour is the source of the following dependency conflicts.\n",
            "datascience 0.10.6 requires folium==0.2.1, but you have folium 0.8.3 which is incompatible.\u001b[0m\n",
            "Successfully installed Pygments-2.12.0 colorama-0.4.5 commonmark-0.9.1 rich-10.16.2 skimpy-0.0.5 typeguard-2.13.3\n"
          ]
        },
        {
          "output_type": "display_data",
          "data": {
            "application/vnd.colab-display-data+json": {
              "pip_warning": {
                "packages": [
                  "pygments"
                ]
              }
            }
          },
          "metadata": {}
        }
      ]
    },
    {
      "cell_type": "code",
      "source": [
        "# Tornando mais poderosa a sumarização\n",
        "\n",
        "# !pip install skimpy\n",
        "\n",
        "from skimpy import skim\n",
        "\n",
        "skim(df)"
      ],
      "metadata": {
        "execution": {
          "iopub.status.busy": "2022-07-31T01:41:00.429611Z",
          "iopub.execute_input": "2022-07-31T01:41:00.430008Z",
          "iopub.status.idle": "2022-07-31T01:41:00.558877Z",
          "shell.execute_reply.started": "2022-07-31T01:41:00.429971Z",
          "shell.execute_reply": "2022-07-31T01:41:00.558183Z"
        },
        "trusted": true,
        "colab": {
          "base_uri": "https://localhost:8080/",
          "height": 289
        },
        "id": "CLEDEag4_AFh",
        "outputId": "81b82521-a74b-4d4b-b120-b55c8da6c91c"
      },
      "execution_count": 21,
      "outputs": [
        {
          "output_type": "display_data",
          "data": {
            "text/plain": [
              "╭───────────────────────────────────── skimpy summary ──────────────────────────────────────╮\n",
              "│ \u001b[3m         Data Summary         \u001b[0m \u001b[3m      Data Types       \u001b[0m                                    │\n",
              "│ ┏━━━━━━━━━━━━━━━━━━━┳━━━━━━━━┓ ┏━━━━━━━━━━━━━┳━━━━━━━┓                                    │\n",
              "│ ┃\u001b[1;36m \u001b[0m\u001b[1;36mdataframe        \u001b[0m\u001b[1;36m \u001b[0m┃\u001b[1;36m \u001b[0m\u001b[1;36mValues\u001b[0m\u001b[1;36m \u001b[0m┃ ┃\u001b[1;36m \u001b[0m\u001b[1;36mColumn Type\u001b[0m\u001b[1;36m \u001b[0m┃\u001b[1;36m \u001b[0m\u001b[1;36mCount\u001b[0m\u001b[1;36m \u001b[0m┃                                    │\n",
              "│ ┡━━━━━━━━━━━━━━━━━━━╇━━━━━━━━┩ ┡━━━━━━━━━━━━━╇━━━━━━━┩                                    │\n",
              "│ │ Number of rows    │ 4      │ │ object      │ 1     │                                    │\n",
              "│ │ Number of columns │ 3      │ │ float64     │ 1     │                                    │\n",
              "│ └───────────────────┴────────┘ │ int64       │ 1     │                                    │\n",
              "│                                └─────────────┴───────┘                                    │\n",
              "│ \u001b[3m                                         number                                         \u001b[0m  │\n",
              "│ ┏━━━━━━━━━┳━━━━━━━━━━┳━━━━━━━━━━━━━━━━┳━━━━━━┳━━━━━━━┳━━━━━┳━━━━━┳━━━━━┳━━━━━━┳━━━━━━━━┓  │\n",
              "│ ┃\u001b[1m \u001b[0m\u001b[1m       \u001b[0m\u001b[1m \u001b[0m┃\u001b[1m \u001b[0m\u001b[1mmissing \u001b[0m\u001b[1m \u001b[0m┃\u001b[1m \u001b[0m\u001b[1mcomplete rate \u001b[0m\u001b[1m \u001b[0m┃\u001b[1m \u001b[0m\u001b[1mmean\u001b[0m\u001b[1m \u001b[0m┃\u001b[1m \u001b[0m\u001b[1msd   \u001b[0m\u001b[1m \u001b[0m┃\u001b[1m \u001b[0m\u001b[1mp0 \u001b[0m\u001b[1m \u001b[0m┃\u001b[1m \u001b[0m\u001b[1mp25\u001b[0m\u001b[1m \u001b[0m┃\u001b[1m \u001b[0m\u001b[1mp75\u001b[0m\u001b[1m \u001b[0m┃\u001b[1m \u001b[0m\u001b[1mp100\u001b[0m\u001b[1m \u001b[0m┃\u001b[1m \u001b[0m\u001b[1mhist  \u001b[0m\u001b[1m \u001b[0m┃  │\n",
              "│ ┡━━━━━━━━━╇━━━━━━━━━━╇━━━━━━━━━━━━━━━━╇━━━━━━╇━━━━━━━╇━━━━━╇━━━━━╇━━━━━╇━━━━━━╇━━━━━━━━┩  │\n",
              "│ │ \u001b[38;5;141maltura \u001b[0m │ \u001b[36m       0\u001b[0m │ \u001b[36m             1\u001b[0m │ \u001b[36m 1.9\u001b[0m │ \u001b[36m0.062\u001b[0m │ \u001b[36m1.8\u001b[0m │ \u001b[36m1.8\u001b[0m │ \u001b[36m1.9\u001b[0m │ \u001b[36m 1.9\u001b[0m │ \u001b[32m▄  ▄ █\u001b[0m │  │\n",
              "│ │ \u001b[38;5;141mpontos \u001b[0m │ \u001b[36m       0\u001b[0m │ \u001b[36m             1\u001b[0m │ \u001b[36m  14\u001b[0m │ \u001b[36m  7.3\u001b[0m │ \u001b[36m  5\u001b[0m │ \u001b[36m 10\u001b[0m │ \u001b[36m 18\u001b[0m │ \u001b[36m  22\u001b[0m │ \u001b[32m█ █ ██\u001b[0m │  │\n",
              "│ └─────────┴──────────┴────────────────┴──────┴───────┴─────┴─────┴─────┴──────┴────────┘  │\n",
              "╰─────────────────────────────────────────── End ───────────────────────────────────────────╯\n"
            ],
            "text/html": [
              "<pre style=\"white-space:pre;overflow-x:auto;line-height:normal;font-family:Menlo,'DejaVu Sans Mono',consolas,'Courier New',monospace\">╭───────────────────────────────────── skimpy summary ──────────────────────────────────────╮\n",
              "│ <span style=\"font-style: italic\">         Data Summary         </span> <span style=\"font-style: italic\">      Data Types       </span>                                    │\n",
              "│ ┏━━━━━━━━━━━━━━━━━━━┳━━━━━━━━┓ ┏━━━━━━━━━━━━━┳━━━━━━━┓                                    │\n",
              "│ ┃<span style=\"color: #008080; text-decoration-color: #008080; font-weight: bold\"> dataframe         </span>┃<span style=\"color: #008080; text-decoration-color: #008080; font-weight: bold\"> Values </span>┃ ┃<span style=\"color: #008080; text-decoration-color: #008080; font-weight: bold\"> Column Type </span>┃<span style=\"color: #008080; text-decoration-color: #008080; font-weight: bold\"> Count </span>┃                                    │\n",
              "│ ┡━━━━━━━━━━━━━━━━━━━╇━━━━━━━━┩ ┡━━━━━━━━━━━━━╇━━━━━━━┩                                    │\n",
              "│ │ Number of rows    │ 4      │ │ object      │ 1     │                                    │\n",
              "│ │ Number of columns │ 3      │ │ float64     │ 1     │                                    │\n",
              "│ └───────────────────┴────────┘ │ int64       │ 1     │                                    │\n",
              "│                                └─────────────┴───────┘                                    │\n",
              "│ <span style=\"font-style: italic\">                                         number                                         </span>  │\n",
              "│ ┏━━━━━━━━━┳━━━━━━━━━━┳━━━━━━━━━━━━━━━━┳━━━━━━┳━━━━━━━┳━━━━━┳━━━━━┳━━━━━┳━━━━━━┳━━━━━━━━┓  │\n",
              "│ ┃<span style=\"font-weight: bold\">         </span>┃<span style=\"font-weight: bold\"> missing  </span>┃<span style=\"font-weight: bold\"> complete rate  </span>┃<span style=\"font-weight: bold\"> mean </span>┃<span style=\"font-weight: bold\"> sd    </span>┃<span style=\"font-weight: bold\"> p0  </span>┃<span style=\"font-weight: bold\"> p25 </span>┃<span style=\"font-weight: bold\"> p75 </span>┃<span style=\"font-weight: bold\"> p100 </span>┃<span style=\"font-weight: bold\"> hist   </span>┃  │\n",
              "│ ┡━━━━━━━━━╇━━━━━━━━━━╇━━━━━━━━━━━━━━━━╇━━━━━━╇━━━━━━━╇━━━━━╇━━━━━╇━━━━━╇━━━━━━╇━━━━━━━━┩  │\n",
              "│ │ <span style=\"color: #af87ff; text-decoration-color: #af87ff\">altura </span> │ <span style=\"color: #008080; text-decoration-color: #008080\">       0</span> │ <span style=\"color: #008080; text-decoration-color: #008080\">             1</span> │ <span style=\"color: #008080; text-decoration-color: #008080\"> 1.9</span> │ <span style=\"color: #008080; text-decoration-color: #008080\">0.062</span> │ <span style=\"color: #008080; text-decoration-color: #008080\">1.8</span> │ <span style=\"color: #008080; text-decoration-color: #008080\">1.8</span> │ <span style=\"color: #008080; text-decoration-color: #008080\">1.9</span> │ <span style=\"color: #008080; text-decoration-color: #008080\"> 1.9</span> │ <span style=\"color: #008000; text-decoration-color: #008000\">▄  ▄ █</span> │  │\n",
              "│ │ <span style=\"color: #af87ff; text-decoration-color: #af87ff\">pontos </span> │ <span style=\"color: #008080; text-decoration-color: #008080\">       0</span> │ <span style=\"color: #008080; text-decoration-color: #008080\">             1</span> │ <span style=\"color: #008080; text-decoration-color: #008080\">  14</span> │ <span style=\"color: #008080; text-decoration-color: #008080\">  7.3</span> │ <span style=\"color: #008080; text-decoration-color: #008080\">  5</span> │ <span style=\"color: #008080; text-decoration-color: #008080\"> 10</span> │ <span style=\"color: #008080; text-decoration-color: #008080\"> 18</span> │ <span style=\"color: #008080; text-decoration-color: #008080\">  22</span> │ <span style=\"color: #008000; text-decoration-color: #008000\">█ █ ██</span> │  │\n",
              "│ └─────────┴──────────┴────────────────┴──────┴───────┴─────┴─────┴─────┴──────┴────────┘  │\n",
              "╰─────────────────────────────────────────── End ───────────────────────────────────────────╯\n",
              "</pre>\n"
            ]
          },
          "metadata": {}
        }
      ]
    },
    {
      "cell_type": "code",
      "source": [
        "# Correlação\n",
        "\n",
        "df.corr()"
      ],
      "metadata": {
        "execution": {
          "iopub.status.busy": "2022-07-31T01:41:00.559935Z",
          "iopub.execute_input": "2022-07-31T01:41:00.560402Z",
          "iopub.status.idle": "2022-07-31T01:41:00.572274Z",
          "shell.execute_reply.started": "2022-07-31T01:41:00.560370Z",
          "shell.execute_reply": "2022-07-31T01:41:00.571640Z"
        },
        "trusted": true,
        "colab": {
          "base_uri": "https://localhost:8080/",
          "height": 112
        },
        "id": "ppvkpNiI_AFi",
        "outputId": "69eefed9-b8f9-48b3-81b7-396d2c774a11"
      },
      "execution_count": 22,
      "outputs": [
        {
          "output_type": "execute_result",
          "data": {
            "text/plain": [
              "          altura    pontos\n",
              "altura  1.000000 -0.400605\n",
              "pontos -0.400605  1.000000"
            ],
            "text/html": [
              "\n",
              "  <div id=\"df-a73486e7-a0ed-458e-99ed-ffff8debba86\">\n",
              "    <div class=\"colab-df-container\">\n",
              "      <div>\n",
              "<style scoped>\n",
              "    .dataframe tbody tr th:only-of-type {\n",
              "        vertical-align: middle;\n",
              "    }\n",
              "\n",
              "    .dataframe tbody tr th {\n",
              "        vertical-align: top;\n",
              "    }\n",
              "\n",
              "    .dataframe thead th {\n",
              "        text-align: right;\n",
              "    }\n",
              "</style>\n",
              "<table border=\"1\" class=\"dataframe\">\n",
              "  <thead>\n",
              "    <tr style=\"text-align: right;\">\n",
              "      <th></th>\n",
              "      <th>altura</th>\n",
              "      <th>pontos</th>\n",
              "    </tr>\n",
              "  </thead>\n",
              "  <tbody>\n",
              "    <tr>\n",
              "      <th>altura</th>\n",
              "      <td>1.000000</td>\n",
              "      <td>-0.400605</td>\n",
              "    </tr>\n",
              "    <tr>\n",
              "      <th>pontos</th>\n",
              "      <td>-0.400605</td>\n",
              "      <td>1.000000</td>\n",
              "    </tr>\n",
              "  </tbody>\n",
              "</table>\n",
              "</div>\n",
              "      <button class=\"colab-df-convert\" onclick=\"convertToInteractive('df-a73486e7-a0ed-458e-99ed-ffff8debba86')\"\n",
              "              title=\"Convert this dataframe to an interactive table.\"\n",
              "              style=\"display:none;\">\n",
              "        \n",
              "  <svg xmlns=\"http://www.w3.org/2000/svg\" height=\"24px\"viewBox=\"0 0 24 24\"\n",
              "       width=\"24px\">\n",
              "    <path d=\"M0 0h24v24H0V0z\" fill=\"none\"/>\n",
              "    <path d=\"M18.56 5.44l.94 2.06.94-2.06 2.06-.94-2.06-.94-.94-2.06-.94 2.06-2.06.94zm-11 1L8.5 8.5l.94-2.06 2.06-.94-2.06-.94L8.5 2.5l-.94 2.06-2.06.94zm10 10l.94 2.06.94-2.06 2.06-.94-2.06-.94-.94-2.06-.94 2.06-2.06.94z\"/><path d=\"M17.41 7.96l-1.37-1.37c-.4-.4-.92-.59-1.43-.59-.52 0-1.04.2-1.43.59L10.3 9.45l-7.72 7.72c-.78.78-.78 2.05 0 2.83L4 21.41c.39.39.9.59 1.41.59.51 0 1.02-.2 1.41-.59l7.78-7.78 2.81-2.81c.8-.78.8-2.07 0-2.86zM5.41 20L4 18.59l7.72-7.72 1.47 1.35L5.41 20z\"/>\n",
              "  </svg>\n",
              "      </button>\n",
              "      \n",
              "  <style>\n",
              "    .colab-df-container {\n",
              "      display:flex;\n",
              "      flex-wrap:wrap;\n",
              "      gap: 12px;\n",
              "    }\n",
              "\n",
              "    .colab-df-convert {\n",
              "      background-color: #E8F0FE;\n",
              "      border: none;\n",
              "      border-radius: 50%;\n",
              "      cursor: pointer;\n",
              "      display: none;\n",
              "      fill: #1967D2;\n",
              "      height: 32px;\n",
              "      padding: 0 0 0 0;\n",
              "      width: 32px;\n",
              "    }\n",
              "\n",
              "    .colab-df-convert:hover {\n",
              "      background-color: #E2EBFA;\n",
              "      box-shadow: 0px 1px 2px rgba(60, 64, 67, 0.3), 0px 1px 3px 1px rgba(60, 64, 67, 0.15);\n",
              "      fill: #174EA6;\n",
              "    }\n",
              "\n",
              "    [theme=dark] .colab-df-convert {\n",
              "      background-color: #3B4455;\n",
              "      fill: #D2E3FC;\n",
              "    }\n",
              "\n",
              "    [theme=dark] .colab-df-convert:hover {\n",
              "      background-color: #434B5C;\n",
              "      box-shadow: 0px 1px 3px 1px rgba(0, 0, 0, 0.15);\n",
              "      filter: drop-shadow(0px 1px 2px rgba(0, 0, 0, 0.3));\n",
              "      fill: #FFFFFF;\n",
              "    }\n",
              "  </style>\n",
              "\n",
              "      <script>\n",
              "        const buttonEl =\n",
              "          document.querySelector('#df-a73486e7-a0ed-458e-99ed-ffff8debba86 button.colab-df-convert');\n",
              "        buttonEl.style.display =\n",
              "          google.colab.kernel.accessAllowed ? 'block' : 'none';\n",
              "\n",
              "        async function convertToInteractive(key) {\n",
              "          const element = document.querySelector('#df-a73486e7-a0ed-458e-99ed-ffff8debba86');\n",
              "          const dataTable =\n",
              "            await google.colab.kernel.invokeFunction('convertToInteractive',\n",
              "                                                     [key], {});\n",
              "          if (!dataTable) return;\n",
              "\n",
              "          const docLinkHtml = 'Like what you see? Visit the ' +\n",
              "            '<a target=\"_blank\" href=https://colab.research.google.com/notebooks/data_table.ipynb>data table notebook</a>'\n",
              "            + ' to learn more about interactive tables.';\n",
              "          element.innerHTML = '';\n",
              "          dataTable['output_type'] = 'display_data';\n",
              "          await google.colab.output.renderOutput(dataTable, element);\n",
              "          const docLink = document.createElement('div');\n",
              "          docLink.innerHTML = docLinkHtml;\n",
              "          element.appendChild(docLink);\n",
              "        }\n",
              "      </script>\n",
              "    </div>\n",
              "  </div>\n",
              "  "
            ]
          },
          "metadata": {},
          "execution_count": 22
        }
      ]
    },
    {
      "cell_type": "code",
      "source": [
        "df"
      ],
      "metadata": {
        "execution": {
          "iopub.status.busy": "2022-07-31T01:41:00.574223Z",
          "iopub.execute_input": "2022-07-31T01:41:00.574568Z",
          "iopub.status.idle": "2022-07-31T01:41:00.584407Z",
          "shell.execute_reply.started": "2022-07-31T01:41:00.574536Z",
          "shell.execute_reply": "2022-07-31T01:41:00.583382Z"
        },
        "trusted": true,
        "colab": {
          "base_uri": "https://localhost:8080/",
          "height": 175
        },
        "id": "si4sBIzQ_AFi",
        "outputId": "b5051755-e060-4c1a-ce52-6419546625d0"
      },
      "execution_count": 23,
      "outputs": [
        {
          "output_type": "execute_result",
          "data": {
            "text/plain": [
              "    nome  altura  pontos\n",
              "0  Maria    1.89      12\n",
              "1    Ana    1.85       5\n",
              "2  Carla    1.91      17\n",
              "3  Joana    1.77      22"
            ],
            "text/html": [
              "\n",
              "  <div id=\"df-a624aa49-1a68-4257-99c9-5b2c9473abe9\">\n",
              "    <div class=\"colab-df-container\">\n",
              "      <div>\n",
              "<style scoped>\n",
              "    .dataframe tbody tr th:only-of-type {\n",
              "        vertical-align: middle;\n",
              "    }\n",
              "\n",
              "    .dataframe tbody tr th {\n",
              "        vertical-align: top;\n",
              "    }\n",
              "\n",
              "    .dataframe thead th {\n",
              "        text-align: right;\n",
              "    }\n",
              "</style>\n",
              "<table border=\"1\" class=\"dataframe\">\n",
              "  <thead>\n",
              "    <tr style=\"text-align: right;\">\n",
              "      <th></th>\n",
              "      <th>nome</th>\n",
              "      <th>altura</th>\n",
              "      <th>pontos</th>\n",
              "    </tr>\n",
              "  </thead>\n",
              "  <tbody>\n",
              "    <tr>\n",
              "      <th>0</th>\n",
              "      <td>Maria</td>\n",
              "      <td>1.89</td>\n",
              "      <td>12</td>\n",
              "    </tr>\n",
              "    <tr>\n",
              "      <th>1</th>\n",
              "      <td>Ana</td>\n",
              "      <td>1.85</td>\n",
              "      <td>5</td>\n",
              "    </tr>\n",
              "    <tr>\n",
              "      <th>2</th>\n",
              "      <td>Carla</td>\n",
              "      <td>1.91</td>\n",
              "      <td>17</td>\n",
              "    </tr>\n",
              "    <tr>\n",
              "      <th>3</th>\n",
              "      <td>Joana</td>\n",
              "      <td>1.77</td>\n",
              "      <td>22</td>\n",
              "    </tr>\n",
              "  </tbody>\n",
              "</table>\n",
              "</div>\n",
              "      <button class=\"colab-df-convert\" onclick=\"convertToInteractive('df-a624aa49-1a68-4257-99c9-5b2c9473abe9')\"\n",
              "              title=\"Convert this dataframe to an interactive table.\"\n",
              "              style=\"display:none;\">\n",
              "        \n",
              "  <svg xmlns=\"http://www.w3.org/2000/svg\" height=\"24px\"viewBox=\"0 0 24 24\"\n",
              "       width=\"24px\">\n",
              "    <path d=\"M0 0h24v24H0V0z\" fill=\"none\"/>\n",
              "    <path d=\"M18.56 5.44l.94 2.06.94-2.06 2.06-.94-2.06-.94-.94-2.06-.94 2.06-2.06.94zm-11 1L8.5 8.5l.94-2.06 2.06-.94-2.06-.94L8.5 2.5l-.94 2.06-2.06.94zm10 10l.94 2.06.94-2.06 2.06-.94-2.06-.94-.94-2.06-.94 2.06-2.06.94z\"/><path d=\"M17.41 7.96l-1.37-1.37c-.4-.4-.92-.59-1.43-.59-.52 0-1.04.2-1.43.59L10.3 9.45l-7.72 7.72c-.78.78-.78 2.05 0 2.83L4 21.41c.39.39.9.59 1.41.59.51 0 1.02-.2 1.41-.59l7.78-7.78 2.81-2.81c.8-.78.8-2.07 0-2.86zM5.41 20L4 18.59l7.72-7.72 1.47 1.35L5.41 20z\"/>\n",
              "  </svg>\n",
              "      </button>\n",
              "      \n",
              "  <style>\n",
              "    .colab-df-container {\n",
              "      display:flex;\n",
              "      flex-wrap:wrap;\n",
              "      gap: 12px;\n",
              "    }\n",
              "\n",
              "    .colab-df-convert {\n",
              "      background-color: #E8F0FE;\n",
              "      border: none;\n",
              "      border-radius: 50%;\n",
              "      cursor: pointer;\n",
              "      display: none;\n",
              "      fill: #1967D2;\n",
              "      height: 32px;\n",
              "      padding: 0 0 0 0;\n",
              "      width: 32px;\n",
              "    }\n",
              "\n",
              "    .colab-df-convert:hover {\n",
              "      background-color: #E2EBFA;\n",
              "      box-shadow: 0px 1px 2px rgba(60, 64, 67, 0.3), 0px 1px 3px 1px rgba(60, 64, 67, 0.15);\n",
              "      fill: #174EA6;\n",
              "    }\n",
              "\n",
              "    [theme=dark] .colab-df-convert {\n",
              "      background-color: #3B4455;\n",
              "      fill: #D2E3FC;\n",
              "    }\n",
              "\n",
              "    [theme=dark] .colab-df-convert:hover {\n",
              "      background-color: #434B5C;\n",
              "      box-shadow: 0px 1px 3px 1px rgba(0, 0, 0, 0.15);\n",
              "      filter: drop-shadow(0px 1px 2px rgba(0, 0, 0, 0.3));\n",
              "      fill: #FFFFFF;\n",
              "    }\n",
              "  </style>\n",
              "\n",
              "      <script>\n",
              "        const buttonEl =\n",
              "          document.querySelector('#df-a624aa49-1a68-4257-99c9-5b2c9473abe9 button.colab-df-convert');\n",
              "        buttonEl.style.display =\n",
              "          google.colab.kernel.accessAllowed ? 'block' : 'none';\n",
              "\n",
              "        async function convertToInteractive(key) {\n",
              "          const element = document.querySelector('#df-a624aa49-1a68-4257-99c9-5b2c9473abe9');\n",
              "          const dataTable =\n",
              "            await google.colab.kernel.invokeFunction('convertToInteractive',\n",
              "                                                     [key], {});\n",
              "          if (!dataTable) return;\n",
              "\n",
              "          const docLinkHtml = 'Like what you see? Visit the ' +\n",
              "            '<a target=\"_blank\" href=https://colab.research.google.com/notebooks/data_table.ipynb>data table notebook</a>'\n",
              "            + ' to learn more about interactive tables.';\n",
              "          element.innerHTML = '';\n",
              "          dataTable['output_type'] = 'display_data';\n",
              "          await google.colab.output.renderOutput(dataTable, element);\n",
              "          const docLink = document.createElement('div');\n",
              "          docLink.innerHTML = docLinkHtml;\n",
              "          element.appendChild(docLink);\n",
              "        }\n",
              "      </script>\n",
              "    </div>\n",
              "  </div>\n",
              "  "
            ]
          },
          "metadata": {},
          "execution_count": 23
        }
      ]
    },
    {
      "cell_type": "code",
      "source": [
        "df.dtypes"
      ],
      "metadata": {
        "execution": {
          "iopub.status.busy": "2022-07-31T01:41:00.585838Z",
          "iopub.execute_input": "2022-07-31T01:41:00.586344Z",
          "iopub.status.idle": "2022-07-31T01:41:00.596553Z",
          "shell.execute_reply.started": "2022-07-31T01:41:00.586301Z",
          "shell.execute_reply": "2022-07-31T01:41:00.595773Z"
        },
        "trusted": true,
        "colab": {
          "base_uri": "https://localhost:8080/"
        },
        "id": "s-Zp5LNE_AFi",
        "outputId": "0a51d344-46f2-4367-cabb-c5fe19592f1e"
      },
      "execution_count": 24,
      "outputs": [
        {
          "output_type": "execute_result",
          "data": {
            "text/plain": [
              "nome       object\n",
              "altura    float64\n",
              "pontos      int64\n",
              "dtype: object"
            ]
          },
          "metadata": {},
          "execution_count": 24
        }
      ]
    },
    {
      "cell_type": "code",
      "source": [
        ""
      ],
      "metadata": {
        "id": "juYFl4Te_AFi"
      },
      "execution_count": null,
      "outputs": []
    }
  ]
}